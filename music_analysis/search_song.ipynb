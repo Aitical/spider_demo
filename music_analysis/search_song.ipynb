{
 "cells": [
  {
   "cell_type": "code",
   "execution_count": 16,
   "metadata": {},
   "outputs": [],
   "source": [
    "import numpy as np\n",
    "import pandas as pd\n",
    "import matplotlib.pyplot as plt\n",
    "import seaborn as sns\n",
    "import MySQLdb as mdb\n",
    "import collections \n",
    "import jieba\n",
    "from snownlp import SnowNLP"
   ]
  },
  {
   "cell_type": "code",
   "execution_count": 3,
   "metadata": {},
   "outputs": [],
   "source": [
    "mysql_cn= mdb.connect(host='localhost', port=3306,user='root', passwd=' ', db='163data',charset='utf8mb4')\n",
    "df = pd.read_sql('SELECT * FROM 163data.api_comment where song_id=1063472', con=mysql_cn, index_col='id')    \n",
    "mysql_cn.close()"
   ]
  },
  {
   "cell_type": "code",
   "execution_count": 4,
   "metadata": {},
   "outputs": [
    {
     "data": {
      "text/html": [
       "<div>\n",
       "<style scoped>\n",
       "    .dataframe tbody tr th:only-of-type {\n",
       "        vertical-align: middle;\n",
       "    }\n",
       "\n",
       "    .dataframe tbody tr th {\n",
       "        vertical-align: top;\n",
       "    }\n",
       "\n",
       "    .dataframe thead th {\n",
       "        text-align: right;\n",
       "    }\n",
       "</style>\n",
       "<table border=\"1\" class=\"dataframe\">\n",
       "  <thead>\n",
       "    <tr style=\"text-align: right;\">\n",
       "      <th></th>\n",
       "      <th>song_id</th>\n",
       "      <th>content</th>\n",
       "      <th>comment_id</th>\n",
       "      <th>user_id</th>\n",
       "      <th>pub_time</th>\n",
       "      <th>liked_count</th>\n",
       "    </tr>\n",
       "    <tr>\n",
       "      <th>id</th>\n",
       "      <th></th>\n",
       "      <th></th>\n",
       "      <th></th>\n",
       "      <th></th>\n",
       "      <th></th>\n",
       "      <th></th>\n",
       "    </tr>\n",
       "  </thead>\n",
       "  <tbody>\n",
       "    <tr>\n",
       "      <th>2860</th>\n",
       "      <td>1063472</td>\n",
       "      <td>格林卡夜曲…希望你不是一道幻影。</td>\n",
       "      <td>10839936</td>\n",
       "      <td>1299992</td>\n",
       "      <td>2015-02-15 21:52:57.370</td>\n",
       "      <td>2</td>\n",
       "    </tr>\n",
       "    <tr>\n",
       "      <th>10221</th>\n",
       "      <td>1063472</td>\n",
       "      <td>格林卡《夜曲》（又名别离）</td>\n",
       "      <td>123383432</td>\n",
       "      <td>53298867</td>\n",
       "      <td>2016-02-25 09:57:29.797</td>\n",
       "      <td>299</td>\n",
       "    </tr>\n",
       "    <tr>\n",
       "      <th>41479</th>\n",
       "      <td>1063472</td>\n",
       "      <td>最初看俄罗斯方舟出现了这首,后来看《春天的十七个瞬间》也有这首.....俄罗斯人还真是喜欢格...</td>\n",
       "      <td>132090229</td>\n",
       "      <td>68291148</td>\n",
       "      <td>2016-03-21 13:13:10.388</td>\n",
       "      <td>100</td>\n",
       "    </tr>\n",
       "    <tr>\n",
       "      <th>52905</th>\n",
       "      <td>1063472</td>\n",
       "      <td>安静的夜～</td>\n",
       "      <td>135618855</td>\n",
       "      <td>3473870</td>\n",
       "      <td>2016-03-29 23:23:25.708</td>\n",
       "      <td>2</td>\n",
       "    </tr>\n",
       "    <tr>\n",
       "      <th>75959</th>\n",
       "      <td>1063472</td>\n",
       "      <td>俄罗斯方舟结尾曲</td>\n",
       "      <td>141437735</td>\n",
       "      <td>64288911</td>\n",
       "      <td>2016-04-13 22:05:53.661</td>\n",
       "      <td>6</td>\n",
       "    </tr>\n",
       "  </tbody>\n",
       "</table>\n",
       "</div>"
      ],
      "text/plain": [
       "       song_id                                            content comment_id  \\\n",
       "id                                                                             \n",
       "2860   1063472                                  格林卡夜曲…希望你不是一道幻影。    10839936   \n",
       "10221  1063472                                      格林卡《夜曲》（又名别离）  123383432   \n",
       "41479  1063472  最初看俄罗斯方舟出现了这首,后来看《春天的十七个瞬间》也有这首.....俄罗斯人还真是喜欢格...  132090229   \n",
       "52905  1063472                                              安静的夜～  135618855   \n",
       "75959  1063472                                           俄罗斯方舟结尾曲  141437735   \n",
       "\n",
       "        user_id                pub_time  liked_count  \n",
       "id                                                    \n",
       "2860    1299992 2015-02-15 21:52:57.370            2  \n",
       "10221  53298867 2016-02-25 09:57:29.797          299  \n",
       "41479  68291148 2016-03-21 13:13:10.388          100  \n",
       "52905   3473870 2016-03-29 23:23:25.708            2  \n",
       "75959  64288911 2016-04-13 22:05:53.661            6  "
      ]
     },
     "execution_count": 4,
     "metadata": {},
     "output_type": "execute_result"
    }
   ],
   "source": [
    "df.head()"
   ]
  },
  {
   "cell_type": "code",
   "execution_count": 5,
   "metadata": {},
   "outputs": [
    {
     "name": "stdout",
     "output_type": "stream",
     "text": [
      "共有 575 条评论\n"
     ]
    }
   ],
   "source": [
    "total_comments_count = df.shape[0]\n",
    "print('共有', total_comments_count, '条评论')"
   ]
  },
  {
   "cell_type": "code",
   "execution_count": 6,
   "metadata": {},
   "outputs": [
    {
     "name": "stdout",
     "output_type": "stream",
     "text": [
      "共有 507 位用户参与评论\n"
     ]
    }
   ],
   "source": [
    "total_user_comment = len(df.user_id.unique())\n",
    "print('共有', total_user_comment, '位用户参与评论')"
   ]
  },
  {
   "cell_type": "code",
   "execution_count": 7,
   "metadata": {},
   "outputs": [
    {
     "name": "stdout",
     "output_type": "stream",
     "text": [
      "其中 114567785 号用户,发表了最多的 7 条评论\n"
     ]
    }
   ],
   "source": [
    "most_comment_user_id = df.groupby(by='user_id').size().sort_values(ascending = False).index[0]\n",
    "most_comment_user_count = df.groupby(by='user_id').size().sort_values(ascending = False)[0]\n",
    "print('其中',most_comment_user_id,'号用户,发表了最多的', most_comment_user_count,'条评论')"
   ]
  },
  {
   "cell_type": "code",
   "execution_count": 8,
   "metadata": {},
   "outputs": [
    {
     "name": "stdout",
     "output_type": "stream",
     "text": [
      "其中 84984496 号用户,发表的<font color=red>\" 日推第一。故作的高姿态，佯装的别离，本质是自卑。 \"</font>获得最多 468 次点赞\n"
     ]
    }
   ],
   "source": [
    "most_liked_comment = df.sort_values(by=['liked_count'], ascending=False).iloc[0,:]\n",
    "most_liked_comment_user = most_liked_comment.user_id\n",
    "most_liked_comment_count = most_liked_comment.liked_count\n",
    "most_liked_comment_content = most_liked_comment.content\n",
    "print('其中',most_liked_comment_user,'号用户,发表的<font color=red>\"',most_liked_comment_content,'\"</font>获得最多', most_liked_comment_count,'次点赞')"
   ]
  },
  {
   "cell_type": "code",
   "execution_count": 36,
   "metadata": {},
   "outputs": [
    {
     "data": {
      "text/html": [
       "<div>\n",
       "<style scoped>\n",
       "    .dataframe tbody tr th:only-of-type {\n",
       "        vertical-align: middle;\n",
       "    }\n",
       "\n",
       "    .dataframe tbody tr th {\n",
       "        vertical-align: top;\n",
       "    }\n",
       "\n",
       "    .dataframe thead th {\n",
       "        text-align: right;\n",
       "    }\n",
       "</style>\n",
       "<table border=\"1\" class=\"dataframe\">\n",
       "  <thead>\n",
       "    <tr style=\"text-align: right;\">\n",
       "      <th></th>\n",
       "      <th>song_id</th>\n",
       "      <th>content</th>\n",
       "      <th>comment_id</th>\n",
       "      <th>user_id</th>\n",
       "      <th>pub_time</th>\n",
       "      <th>liked_count</th>\n",
       "    </tr>\n",
       "    <tr>\n",
       "      <th>id</th>\n",
       "      <th></th>\n",
       "      <th></th>\n",
       "      <th></th>\n",
       "      <th></th>\n",
       "      <th></th>\n",
       "      <th></th>\n",
       "    </tr>\n",
       "  </thead>\n",
       "  <tbody>\n",
       "    <tr>\n",
       "      <th>92956</th>\n",
       "      <td>1063472</td>\n",
       "      <td>日推第一。故作的高姿态，佯装的别离，本质是自卑。</td>\n",
       "      <td>145872000</td>\n",
       "      <td>84984496</td>\n",
       "      <td>2016-04-25 13:59:06.315</td>\n",
       "      <td>468</td>\n",
       "    </tr>\n",
       "    <tr>\n",
       "      <th>697770</th>\n",
       "      <td>1063472</td>\n",
       "      <td>晚上在北大漆黑的音乐厅练完琴要走的时候，一个俄国籍留学生请我帮他用手电照下琴谱，然后就听到了...</td>\n",
       "      <td>339614277</td>\n",
       "      <td>114567785</td>\n",
       "      <td>2017-03-26 14:24:14.465</td>\n",
       "      <td>380</td>\n",
       "    </tr>\n",
       "    <tr>\n",
       "      <th>10221</th>\n",
       "      <td>1063472</td>\n",
       "      <td>格林卡《夜曲》（又名别离）</td>\n",
       "      <td>123383432</td>\n",
       "      <td>53298867</td>\n",
       "      <td>2016-02-25 09:57:29.797</td>\n",
       "      <td>299</td>\n",
       "    </tr>\n",
       "    <tr>\n",
       "      <th>500004</th>\n",
       "      <td>1063472</td>\n",
       "      <td>晚安，格林卡，晚安，小河马。说到夜曲，相比肖邦舒伯特拉赫玛尼诺夫德彪西etc耳熟能详大师，我...</td>\n",
       "      <td>269061350</td>\n",
       "      <td>310080919</td>\n",
       "      <td>2016-12-20 00:02:06.634</td>\n",
       "      <td>168</td>\n",
       "    </tr>\n",
       "    <tr>\n",
       "      <th>273528</th>\n",
       "      <td>1063472</td>\n",
       "      <td>我就是一具躺着空幻想自己能干这个能做那个的尸体。</td>\n",
       "      <td>200283094</td>\n",
       "      <td>253098612</td>\n",
       "      <td>2016-08-16 23:12:24.620</td>\n",
       "      <td>164</td>\n",
       "    </tr>\n",
       "  </tbody>\n",
       "</table>\n",
       "</div>"
      ],
      "text/plain": [
       "        song_id                                            content comment_id  \\\n",
       "id                                                                              \n",
       "92956   1063472                           日推第一。故作的高姿态，佯装的别离，本质是自卑。  145872000   \n",
       "697770  1063472  晚上在北大漆黑的音乐厅练完琴要走的时候，一个俄国籍留学生请我帮他用手电照下琴谱，然后就听到了...  339614277   \n",
       "10221   1063472                                      格林卡《夜曲》（又名别离）  123383432   \n",
       "500004  1063472  晚安，格林卡，晚安，小河马。说到夜曲，相比肖邦舒伯特拉赫玛尼诺夫德彪西etc耳熟能详大师，我...  269061350   \n",
       "273528  1063472                           我就是一具躺着空幻想自己能干这个能做那个的尸体。  200283094   \n",
       "\n",
       "          user_id                pub_time  liked_count  \n",
       "id                                                      \n",
       "92956    84984496 2016-04-25 13:59:06.315          468  \n",
       "697770  114567785 2017-03-26 14:24:14.465          380  \n",
       "10221    53298867 2016-02-25 09:57:29.797          299  \n",
       "500004  310080919 2016-12-20 00:02:06.634          168  \n",
       "273528  253098612 2016-08-16 23:12:24.620          164  "
      ]
     },
     "execution_count": 36,
     "metadata": {},
     "output_type": "execute_result"
    }
   ],
   "source": [
    "top_liked_comment = df.sort_values(by=['liked_count'], ascending=False)\n",
    "top_liked_comment.head()"
   ]
  },
  {
   "cell_type": "code",
   "execution_count": 10,
   "metadata": {},
   "outputs": [
    {
     "name": "stdout",
     "output_type": "stream",
     "text": [
      "1536\n"
     ]
    }
   ],
   "source": [
    "with open('stopwords.txt') as fin:\n",
    "    stopwords = [i.strip() for i in fin.readlines()]\n",
    "stopwords.append('\\n')\n",
    "stopwords.append(' ')\n",
    "stopwords.append('\\u3000')\n",
    "print(len(stopwords))"
   ]
  },
  {
   "cell_type": "code",
   "execution_count": 11,
   "metadata": {},
   "outputs": [
    {
     "name": "stderr",
     "output_type": "stream",
     "text": [
      "Building prefix dict from the default dictionary ...\n",
      "Dumping model to file cache /tmp/jieba.cache\n",
      "Loading model cost 0.974 seconds.\n",
      "Prefix dict has been built succesfully.\n"
     ]
    }
   ],
   "source": [
    "jieba.load_userdict(\"mydict.txt\")"
   ]
  },
  {
   "cell_type": "code",
   "execution_count": 12,
   "metadata": {},
   "outputs": [],
   "source": [
    "unique_comment_content = df.content.unique()\n",
    "jieba_comment_content = []\n",
    "for content in unique_comment_content:\n",
    "    jieba_comment_content.extend([i for i in jieba.cut(content, cut_all=False) if i not in stopwords])"
   ]
  },
  {
   "cell_type": "code",
   "execution_count": 13,
   "metadata": {},
   "outputs": [
    {
     "data": {
      "text/plain": [
       "[('日推', 100),\n",
       " ('第一', 56),\n",
       " ('听', 36),\n",
       " ('曲子', 25),\n",
       " ('格林卡', 25),\n",
       " ('别离', 25),\n",
       " ('喜欢', 25),\n",
       " ('想', 19),\n",
       " ('大哭', 16),\n",
       " ('大笑', 15)]"
      ]
     },
     "execution_count": 13,
     "metadata": {},
     "output_type": "execute_result"
    }
   ],
   "source": [
    "frency = collections.Counter(jieba_comment_content)\n",
    "frency.most_common(10)"
   ]
  },
  {
   "cell_type": "code",
   "execution_count": 14,
   "metadata": {},
   "outputs": [
    {
     "data": {
      "text/html": [
       "<div>\n",
       "<style scoped>\n",
       "    .dataframe tbody tr th:only-of-type {\n",
       "        vertical-align: middle;\n",
       "    }\n",
       "\n",
       "    .dataframe tbody tr th {\n",
       "        vertical-align: top;\n",
       "    }\n",
       "\n",
       "    .dataframe thead th {\n",
       "        text-align: right;\n",
       "    }\n",
       "</style>\n",
       "<table border=\"1\" class=\"dataframe\">\n",
       "  <thead>\n",
       "    <tr style=\"text-align: right;\">\n",
       "      <th></th>\n",
       "      <th>0</th>\n",
       "      <th>1</th>\n",
       "    </tr>\n",
       "  </thead>\n",
       "  <tbody>\n",
       "    <tr>\n",
       "      <th>0</th>\n",
       "      <td>日推</td>\n",
       "      <td>100</td>\n",
       "    </tr>\n",
       "    <tr>\n",
       "      <th>1</th>\n",
       "      <td>第一</td>\n",
       "      <td>56</td>\n",
       "    </tr>\n",
       "    <tr>\n",
       "      <th>2</th>\n",
       "      <td>听</td>\n",
       "      <td>36</td>\n",
       "    </tr>\n",
       "    <tr>\n",
       "      <th>3</th>\n",
       "      <td>曲子</td>\n",
       "      <td>25</td>\n",
       "    </tr>\n",
       "    <tr>\n",
       "      <th>4</th>\n",
       "      <td>格林卡</td>\n",
       "      <td>25</td>\n",
       "    </tr>\n",
       "  </tbody>\n",
       "</table>\n",
       "</div>"
      ],
      "text/plain": [
       "     0    1\n",
       "0   日推  100\n",
       "1   第一   56\n",
       "2    听   36\n",
       "3   曲子   25\n",
       "4  格林卡   25"
      ]
     },
     "execution_count": 14,
     "metadata": {},
     "output_type": "execute_result"
    }
   ],
   "source": [
    "data = frency.most_common(10)\n",
    "pp = pd.DataFrame(data,)\n",
    "pp.head()"
   ]
  },
  {
   "cell_type": "code",
   "execution_count": 15,
   "metadata": {},
   "outputs": [
    {
     "data": {
      "text/plain": [
       "<matplotlib.axes._subplots.AxesSubplot at 0x7f05c88b6ac8>"
      ]
     },
     "execution_count": 15,
     "metadata": {},
     "output_type": "execute_result"
    },
    {
     "data": {
      "image/png": "[encoded data removed]",
      "text/plain": [
       "<matplotlib.figure.Figure at 0x7f05c88b6278>"
      ]
     },
     "metadata": {},
     "output_type": "display_data"
    }
   ],
   "source": [
    "sns.set(font='Microsoft YaHei')\n",
    "pp.plot(kind='bar', x=0)"
   ]
  },
  {
   "cell_type": "code",
   "execution_count": 86,
   "metadata": {},
   "outputs": [
    {
     "name": "stdout",
     "output_type": "stream",
     "text": [
      "评论的综合情感指数: 0.8152838228782779\n"
     ]
    }
   ],
   "source": [
    "feeling_test_length = total_comments_count //5 if total_comments_count <= 10000 else 10000\n",
    "feeling_comment = top_liked_comment.iloc[0:feeling_test_length,:]\n",
    "def get_feeling_num(ff):\n",
    "    return SnowNLP(ff['content']).sentiments*ff.liked_count\n",
    "feeling_result = feeling_comment.apply(get_feeling_num, axis=1).sum()/feeling_comment.liked_count.sum()\n",
    "print('评论的综合情感指数:',feeling_result)"
   ]
  },
  {
   "cell_type": "code",
   "execution_count": 48,
   "metadata": {},
   "outputs": [
    {
     "name": "stdout",
     "output_type": "stream",
     "text": [
      "最新一条评论发布于 2018-02-24 23:03:48.649000\n"
     ]
    }
   ],
   "source": [
    "latest_pub_time = df.pub_time.max()\n",
    "print('最新一条评论发布于',latest_pub_time)"
   ]
  },
  {
   "cell_type": "code",
   "execution_count": 49,
   "metadata": {},
   "outputs": [
    {
     "name": "stdout",
     "output_type": "stream",
     "text": [
      "第一条评论发布于 2015-02-15 21:52:57.370000\n"
     ]
    }
   ],
   "source": [
    "first_pub_time = df.pub_time.min()\n",
    "print('第一条评论发布于',first_pub_time)"
   ]
  },
  {
   "cell_type": "code",
   "execution_count": 93,
   "metadata": {},
   "outputs": [
    {
     "name": "stdout",
     "output_type": "stream",
     "text": [
      "共 507 为听众,跨越 1105 天,在song_name下发表了 575 条评论\n"
     ]
    }
   ],
   "source": [
    "deta_days = (latest_pub_time-first_pub_time).days\n",
    "print('共',total_user_comment,'为听众,跨越',deta_days,'天,在song_name下发表了',total_comments_count,'条评论')"
   ]
  },
  {
   "cell_type": "code",
   "execution_count": 69,
   "metadata": {},
   "outputs": [],
   "source": [
    "def get_time_month(ff):\n",
    "    return ff['pub_time'].strftime('%Y-%m')\n",
    "def get_time_day(ff):\n",
    "    return ff['pub_time'].strftime('%Y-%m-%d')\n",
    "def get_hour(ff):\n",
    "    return ff['pub_time'].hour\n",
    "def get_hour_tag(ff):\n",
    "    if ff.hour > 18:\n",
    "        return '晚上'\n",
    "    if ff.hour > 12:\n",
    "        return '下午'\n",
    "    if ff.hour > 6:\n",
    "        return '上午'\n",
    "    return '午夜'"
   ]
  },
  {
   "cell_type": "code",
   "execution_count": 64,
   "metadata": {},
   "outputs": [
    {
     "data": {
      "text/plain": [
       "<matplotlib.axes._subplots.AxesSubplot at 0x7f05c2d4bf60>"
      ]
     },
     "execution_count": 64,
     "metadata": {},
     "output_type": "execute_result"
    },
    {
     "data": {
      "image/png": "[encoded data removed]",
      "text/plain": [
       "<matplotlib.figure.Figure at 0x7f05ad333e48>"
      ]
     },
     "metadata": {},
     "output_type": "display_data"
    }
   ],
   "source": [
    "plt.figure(figsize=(21,9))\n",
    "time_end_with_day = pd.DataFrame(df.apply(get_time_month, axis=1),columns={'date'})\n",
    "sns.countplot(data=time_end_with_day, x='date')"
   ]
  },
  {
   "cell_type": "code",
   "execution_count": 79,
   "metadata": {},
   "outputs": [
    {
     "data": {
      "text/plain": [
       "<matplotlib.axes._subplots.AxesSubplot at 0x7f05acc1fcf8>"
      ]
     },
     "execution_count": 79,
     "metadata": {},
     "output_type": "execute_result"
    },
    {
     "data": {
      "image/png": "[encoded data removed]",
      "text/plain": [
       "<matplotlib.figure.Figure at 0x7f05acd6ff98>"
      ]
     },
     "metadata": {},
     "output_type": "display_data"
    }
   ],
   "source": [
    "time_get_hour = pd.DataFrame(df.apply(get_hour, axis=1),columns={'hour'})\n",
    "sns.countplot(data=time_get_hour, x='hour')"
   ]
  },
  {
   "cell_type": "code",
   "execution_count": 85,
   "metadata": {},
   "outputs": [
    {
     "data": {
      "text/plain": [
       "<matplotlib.axes._subplots.AxesSubplot at 0x7f05ac5936a0>"
      ]
     },
     "execution_count": 85,
     "metadata": {},
     "output_type": "execute_result"
    },
    {
     "data": {
      "image/png": "[encoded data removed]",
      "text/plain": [
       "<matplotlib.figure.Figure at 0x7f05ac6017f0>"
      ]
     },
     "metadata": {},
     "output_type": "display_data"
    }
   ],
   "source": [
    "sns.set(font='Microsoft YaHei')\n",
    "time_get_hour_tag = pd.DataFrame(time_get_hour.apply(get_hour_tag, axis=1),columns={'tag'})\n",
    "time_get_hour_tag.groupby(by='tag').size().plot(kind='pie')"
   ]
  },
  {
   "cell_type": "code",
   "execution_count": null,
   "metadata": {},
   "outputs": [],
   "source": []
  },
  {
   "cell_type": "code",
   "execution_count": null,
   "metadata": {},
   "outputs": [],
   "source": []
  }
 ],
 "metadata": {
  "kernelspec": {
   "display_name": "Python 3",
   "language": "python",
   "name": "python3"
  },
  "language_info": {
   "codemirror_mode": {
    "name": "ipython",
    "version": 3
   },
   "file_extension": ".py",
   "mimetype": "text/x-python",
   "name": "python",
   "nbconvert_exporter": "python",
   "pygments_lexer": "ipython3",
   "version": "3.5.2"
  }
 },
 "nbformat": 4,
 "nbformat_minor": 2
}
